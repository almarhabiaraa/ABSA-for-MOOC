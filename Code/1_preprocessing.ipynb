{
  "cells": [
    {
      "cell_type": "markdown",
      "metadata": {
        "id": "n5f5hJ4ZSmcV"
      },
      "source": [
        "# Step1: Setup and Load Dataset"
      ]
    },
    {
      "cell_type": "code",
      "execution_count": 3,
      "metadata": {
        "id": "kXjzGlm4SMm8"
      },
      "outputs": [
        {
          "name": "stderr",
          "output_type": "stream",
          "text": [
            "[nltk_data] Downloading package stopwords to\n",
            "[nltk_data]     C:\\Users\\ASUS\\AppData\\Roaming\\nltk_data...\n",
            "[nltk_data]   Package stopwords is already up-to-date!\n"
          ]
        },
        {
          "data": {
            "text/html": [
              "<div>\n",
              "<style scoped>\n",
              "    .dataframe tbody tr th:only-of-type {\n",
              "        vertical-align: middle;\n",
              "    }\n",
              "\n",
              "    .dataframe tbody tr th {\n",
              "        vertical-align: top;\n",
              "    }\n",
              "\n",
              "    .dataframe thead th {\n",
              "        text-align: right;\n",
              "    }\n",
              "</style>\n",
              "<table border=\"1\" class=\"dataframe\">\n",
              "  <thead>\n",
              "    <tr style=\"text-align: right;\">\n",
              "      <th></th>\n",
              "      <th>reviews</th>\n",
              "      <th>reviewers</th>\n",
              "      <th>date_reviews</th>\n",
              "      <th>rating</th>\n",
              "      <th>course_id</th>\n",
              "    </tr>\n",
              "  </thead>\n",
              "  <tbody>\n",
              "    <tr>\n",
              "      <th>0</th>\n",
              "      <td>Pretty dry, but I was able to pass with just t...</td>\n",
              "      <td>By Robert S</td>\n",
              "      <td>Feb 12, 2020</td>\n",
              "      <td>4</td>\n",
              "      <td>google-cbrs-cpi-training</td>\n",
              "    </tr>\n",
              "    <tr>\n",
              "      <th>1</th>\n",
              "      <td>would be a better experience if the video and ...</td>\n",
              "      <td>By Gabriel E R</td>\n",
              "      <td>Sep 28, 2020</td>\n",
              "      <td>4</td>\n",
              "      <td>google-cbrs-cpi-training</td>\n",
              "    </tr>\n",
              "    <tr>\n",
              "      <th>2</th>\n",
              "      <td>Information was perfect! The program itself wa...</td>\n",
              "      <td>By Jacob D</td>\n",
              "      <td>Apr 08, 2020</td>\n",
              "      <td>4</td>\n",
              "      <td>google-cbrs-cpi-training</td>\n",
              "    </tr>\n",
              "    <tr>\n",
              "      <th>3</th>\n",
              "      <td>A few grammatical mistakes on test made me do ...</td>\n",
              "      <td>By Dale B</td>\n",
              "      <td>Feb 24, 2020</td>\n",
              "      <td>4</td>\n",
              "      <td>google-cbrs-cpi-training</td>\n",
              "    </tr>\n",
              "    <tr>\n",
              "      <th>4</th>\n",
              "      <td>Excellent course and the training provided was...</td>\n",
              "      <td>By Sean G</td>\n",
              "      <td>Jun 18, 2020</td>\n",
              "      <td>4</td>\n",
              "      <td>google-cbrs-cpi-training</td>\n",
              "    </tr>\n",
              "  </tbody>\n",
              "</table>\n",
              "</div>"
            ],
            "text/plain": [
              "                                             reviews       reviewers  \\\n",
              "0  Pretty dry, but I was able to pass with just t...     By Robert S   \n",
              "1  would be a better experience if the video and ...  By Gabriel E R   \n",
              "2  Information was perfect! The program itself wa...      By Jacob D   \n",
              "3  A few grammatical mistakes on test made me do ...       By Dale B   \n",
              "4  Excellent course and the training provided was...       By Sean G   \n",
              "\n",
              "   date_reviews  rating                 course_id  \n",
              "0  Feb 12, 2020       4  google-cbrs-cpi-training  \n",
              "1  Sep 28, 2020       4  google-cbrs-cpi-training  \n",
              "2  Apr 08, 2020       4  google-cbrs-cpi-training  \n",
              "3  Feb 24, 2020       4  google-cbrs-cpi-training  \n",
              "4  Jun 18, 2020       4  google-cbrs-cpi-training  "
            ]
          },
          "execution_count": 3,
          "metadata": {},
          "output_type": "execute_result"
        }
      ],
      "source": [
        "import numpy as np\n",
        "import pandas as pd\n",
        "import spacy\n",
        "import re\n",
        "import string\n",
        "import nltk\n",
        "from nltk.corpus import stopwords\n",
        "from tqdm import tqdm\n",
        "import os\n",
        "\n",
        "\n",
        "# Download stopwords\n",
        "nltk.download('stopwords')\n",
        "stop_words = set(stopwords.words('english'))\n",
        "\n",
        "# Load SpaCy model\n",
        "nlp = spacy.load(\"en_core_web_lg\")\n",
        "\n",
        "# Load the Coursera dataset\n",
        "df = pd.read_csv(\"Coursera_reviews.csv\")\n",
        "\n",
        "# Show sample\n",
        "df.head()"
      ]
    },
    {
      "cell_type": "markdown",
      "metadata": {
        "id": "kCjf-oOtSt-o"
      },
      "source": [
        "# Step 2: Text Cleaning Function"
      ]
    },
    {
      "cell_type": "code",
      "execution_count": 4,
      "metadata": {
        "id": "pYKMC1ffSM0O"
      },
      "outputs": [],
      "source": [
        "def clean_text(text):\n",
        "    text = str(text).lower()\n",
        "    text = re.sub(r\"\\[.*?\\]\", \"\", text)\n",
        "    text = re.sub(r\"http\\S+|www\\S+|https\\S+\", \"\", text, flags=re.MULTILINE)\n",
        "    text = re.sub(r\"\\w*\\d\\w*\", \"\", text)\n",
        "    text = re.sub(r\"[%s]\" % re.escape(string.punctuation), \"\", text)\n",
        "    text = re.sub(r\"\\n\", \"\", text)\n",
        "    text = re.sub(r\"\\s+\", \" \", text).strip()\n",
        "    return text"
      ]
    },
    {
      "cell_type": "markdown",
      "metadata": {
        "id": "0PFU2cxWS1Us"
      },
      "source": [
        "# Step 3: Tokenization + Lemmatization"
      ]
    },
    {
      "cell_type": "code",
      "execution_count": 5,
      "metadata": {
        "id": "R8qn2LnjSM9m"
      },
      "outputs": [],
      "source": [
        "def preprocess_text(text):\n",
        "    text = clean_text(text)\n",
        "    doc = nlp(text)\n",
        "    lemmatized = [\n",
        "        token.lemma_ for token in doc\n",
        "        if token.lemma_ not in stop_words\n",
        "        and token.pos_ in [\"NOUN\", \"ADJ\", \"VERB\"]\n",
        "        and token.is_alpha\n",
        "    ]\n",
        "    return \" \".join(lemmatized)"
      ]
    },
    {
      "cell_type": "markdown",
      "metadata": {
        "id": "UyjVmEC3S5tr"
      },
      "source": [
        "# Step 4: Apply Preprocessing to Dataset"
      ]
    },
    {
      "cell_type": "code",
      "execution_count": 7,
      "metadata": {
        "id": "Bjvq9wjHSNE4"
      },
      "outputs": [
        {
          "name": "stderr",
          "output_type": "stream",
          "text": [
            "100%|██████████| 519886/519886 [46:34<00:00, 186.05it/s]  \n"
          ]
        },
        {
          "data": {
            "text/html": [
              "<div>\n",
              "<style scoped>\n",
              "    .dataframe tbody tr th:only-of-type {\n",
              "        vertical-align: middle;\n",
              "    }\n",
              "\n",
              "    .dataframe tbody tr th {\n",
              "        vertical-align: top;\n",
              "    }\n",
              "\n",
              "    .dataframe thead th {\n",
              "        text-align: right;\n",
              "    }\n",
              "</style>\n",
              "<table border=\"1\" class=\"dataframe\">\n",
              "  <thead>\n",
              "    <tr style=\"text-align: right;\">\n",
              "      <th></th>\n",
              "      <th>cleaned_text</th>\n",
              "    </tr>\n",
              "  </thead>\n",
              "  <tbody>\n",
              "    <tr>\n",
              "      <th>0</th>\n",
              "      <td>dry able pass complete watch happy usual quest...</td>\n",
              "    </tr>\n",
              "    <tr>\n",
              "      <th>1</th>\n",
              "      <td>well experience video screen shot sho side tex...</td>\n",
              "    </tr>\n",
              "    <tr>\n",
              "      <th>2</th>\n",
              "      <td>information perfect program little annoying wa...</td>\n",
              "    </tr>\n",
              "    <tr>\n",
              "      <th>3</th>\n",
              "      <td>grammatical mistake test make double take bad</td>\n",
              "    </tr>\n",
              "    <tr>\n",
              "      <th>4</th>\n",
              "      <td>excellent course training provide detailed eas...</td>\n",
              "    </tr>\n",
              "  </tbody>\n",
              "</table>\n",
              "</div>"
            ],
            "text/plain": [
              "                                        cleaned_text\n",
              "0  dry able pass complete watch happy usual quest...\n",
              "1  well experience video screen shot sho side tex...\n",
              "2  information perfect program little annoying wa...\n",
              "3      grammatical mistake test make double take bad\n",
              "4  excellent course training provide detailed eas..."
            ]
          },
          "execution_count": 7,
          "metadata": {},
          "output_type": "execute_result"
        }
      ],
      "source": [
        "# Check if 'review' or 'text' column exists\n",
        "if 'review' in df.columns:\n",
        "    text_column = 'review'\n",
        "elif 'text' in df.columns:\n",
        "    text_column = 'text'\n",
        "else:\n",
        "    text_column = df.columns[0]  # Fallback to first column\n",
        "\n",
        "# Drop NA and duplicates\n",
        "df = df.dropna(subset=[text_column]).drop_duplicates()\n",
        "\n",
        "# Apply preprocessing\n",
        "tqdm.pandas()\n",
        "df['cleaned_text'] = df[text_column].progress_apply(preprocess_text)\n",
        "\n",
        "# Save cleaned data\n",
        "df.to_csv(r\"C:\\Users\\ASUS\\Desktop\\ML\\cleaned_text.csv\", index=False)\n",
        "df[['cleaned_text']].head()"
      ]
    }
  ],
  "metadata": {
    "colab": {
      "provenance": []
    },
    "kernelspec": {
      "display_name": "sentiment_env",
      "language": "python",
      "name": "python3"
    },
    "language_info": {
      "codemirror_mode": {
        "name": "ipython",
        "version": 3
      },
      "file_extension": ".py",
      "mimetype": "text/x-python",
      "name": "python",
      "nbconvert_exporter": "python",
      "pygments_lexer": "ipython3",
      "version": "3.11.9"
    }
  },
  "nbformat": 4,
  "nbformat_minor": 0
}
